{
 "cells": [
  {
   "cell_type": "code",
   "execution_count": 8,
   "metadata": {},
   "outputs": [],
   "source": [
    "# # 메일 발송 함수 생성\n",
    "# def send_mail(from_email, to_email, subject, contents):\n",
    "#     print(\"From: \\t\" + from_email)\n",
    "#     print(\"To: \\t\" + to_email)\n",
    "#     print(\"Subject: \" + subject)\n",
    "#     print(\"Contents\")\n",
    "#     print(\"*\"*10)\n",
    "#     print(contents)\n",
    "#     print(\"*\"*10)\n",
    "#     print(\"Completed\")\n",
    "#     print(\"-\"*20)\n",
    "\n",
    "\n",
    "# # from_email 생성\n",
    "# my_email = \"yenavibes@gmail.com\"\n",
    "\n",
    "# # to_email 생성\n",
    "# users = []\n",
    "# users.append({\"name\": \"yena\", \"email\": \"yenavibes@gmail.com\"})\n",
    "# users.append({\"name\": \"yena\", \"email\": \"yenavibes@gmail.com\"})\n",
    "# users.append({\"name\": \"yena\", \"email\": \"yenavibes@gmail.com\"})\n",
    "\n",
    "# # contents 생성\n",
    "# contents = \"테스트입니다\"\n",
    "# # 반복문\n",
    "# for user in users:\n",
    "#     title = \"{}님에게 발송되는 테스트 메일입니다.\".format(user[\"name\"])\n",
    "#     send_mail(my_email, user[\"email\"], title, contents)"
   ]
  },
  {
   "cell_type": "code",
   "execution_count": 9,
   "metadata": {},
   "outputs": [],
   "source": [
    "# ## read sample file to make user list \n",
    "# file = open(\"sample_data\",\"r\")\n",
    "# users = file.readlines()\n",
    "# users"
   ]
  },
  {
   "cell_type": "code",
   "execution_count": 10,
   "metadata": {},
   "outputs": [],
   "source": [
    "# 클래스 사용 \n",
    "# 형식에 맞는 이메일인지 확인 "
   ]
  },
  {
   "cell_type": "code",
   "execution_count": 11,
   "metadata": {
    "scrolled": true,
    "tags": []
   },
   "outputs": [],
   "source": [
    "# email = Email()\n",
    "# myemail = \"yenavivbes@gmail.com\"\n",
    "# for user in users:\n",
    "#     send_mail(myemail,user,title, contents)"
   ]
  },
  {
   "cell_type": "code",
   "execution_count": 12,
   "metadata": {},
   "outputs": [],
   "source": [
    "from email.mime.text import MIMEText\n",
    "from email.mime.multipart import MIMEMultipart\n",
    "import smtplib\n",
    "\n",
    "my_email= \"ynjo8531@gmail.com\"\n",
    "#smtp 접속을 위한 서버, 계정 \n",
    "smtp_server = \"smtp.gmail.com\"\n",
    "smtp_port= 465 \n",
    "smtp_user = my_email\n",
    "smtp_pw = input(\"enter {} mail password: \".format(my_email))"
   ]
  },
  {
   "cell_type": "code",
   "execution_count": 13,
   "metadata": {},
   "outputs": [],
   "source": [
    "# function to send mail and check to_email available \n",
    "def valid_mail(to_email):\n",
    "    if \"@\" in to_email:\n",
    "        return True\n",
    "    else:\n",
    "        return False\n",
    "\n",
    "\n",
    "# function to send mail \n",
    "def send_mail(from_email,to_email, subj_layout, cont_layout, attachment=None):\n",
    "    if not valid_mail(to_email):\n",
    "        print(\"Wrong email address : {}\".format(to_email))\n",
    "        return\n",
    "    \n",
    "    msg = MIMEMultipart('alternative')\n",
    "\n",
    "    msg[\"From\"] = my_email\n",
    "    msg[\"To\"] = to_email\n",
    "    msg[\"Subject\"] = subj_layout\n",
    "\n",
    "    contents = cont_layout\n",
    "    text = MIMEText(_text = contents, _charset = \"utf-8\")\n",
    "    msg.attach(text)\n",
    "    \n",
    "    #smtp 서버 정보 클래스 \n",
    "    smtp = smtplib.SMTP_SSL(smtp_server,smtp_port)\n",
    "    #서버 로그인 \n",
    "    smtp.login(smtp_user,smtp_pw)   \n",
    "    smtp.sendmail(smtp_user,to_email,msg.as_string())\n",
    "    smtp.close()"
   ]
  },
  {
   "cell_type": "code",
   "execution_count": 14,
   "metadata": {},
   "outputs": [
    {
     "output_type": "stream",
     "name": "stdout",
     "text": [
      "Done!\n",
      "Done!\n"
     ]
    }
   ],
   "source": [
    "## read sample file to make user list \n",
    "contents = \"테스트입니다\"\n",
    "\n",
    "file = open(\"sample_data_test2\",\"r\")\n",
    "users = file.readlines()\n",
    "for user in users: \n",
    "    title = \"{}에게 발송되는 테스트 메일입니다.\".format(user)\n",
    "    send_mail(my_email,user,title,contents)\n",
    "    print(\"Done!\")\n",
    "\n",
    "\n",
    "# # contents 생성\n",
    "# contents = \"테스트입니다\"\n",
    "# # 반복문\n",
    "# for user in users:\n",
    "#     title = \"{}님에게 발송되는 테스트 메일입니다.\".format(user[\"name\"])\n",
    "#     send_mail(my_email, user[\"email\"], title, contents)\n"
   ]
  }
 ],
 "metadata": {
  "kernelspec": {
   "display_name": "Python 3",
   "language": "python",
   "name": "python3"
  },
  "language_info": {
   "codemirror_mode": {
    "name": "ipython",
    "version": 3
   },
   "file_extension": ".py",
   "mimetype": "text/x-python",
   "name": "python",
   "nbconvert_exporter": "python",
   "pygments_lexer": "ipython3",
   "version": "3.8.3-final"
  }
 },
 "nbformat": 4,
 "nbformat_minor": 4
}