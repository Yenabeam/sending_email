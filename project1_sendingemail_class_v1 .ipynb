{
 "cells": [
  {
   "cell_type": "code",
   "execution_count": 4,
   "metadata": {},
   "outputs": [
    {
     "name": "stdout",
     "output_type": "stream",
     "text": [
      "From: \tyenavibes@gmail.com\n",
      "To: \tyenavibes@gmail.com\n",
      "Subject: yena님에게 발송되는 테스트 메일입니다.\n",
      "Contents\n",
      "**********\n",
      "테스트입니다\n",
      "**********\n",
      "Completed\n",
      "--------------------\n",
      "From: \tyenavibes@gmail.com\n",
      "To: \tyenavibes@gmail.com\n",
      "Subject: yena님에게 발송되는 테스트 메일입니다.\n",
      "Contents\n",
      "**********\n",
      "테스트입니다\n",
      "**********\n",
      "Completed\n",
      "--------------------\n",
      "From: \tyenavibes@gmail.com\n",
      "To: \tyenavibes@gmail.com\n",
      "Subject: yena님에게 발송되는 테스트 메일입니다.\n",
      "Contents\n",
      "**********\n",
      "테스트입니다\n",
      "**********\n",
      "Completed\n",
      "--------------------\n"
     ]
    }
   ],
   "source": [
    "# 메일 발송 함수 생성\n",
    "def send_mail(from_email, to_email, subject, contents):\n",
    "    print(\"From: \\t\" + from_email)\n",
    "    print(\"To: \\t\" + to_email)\n",
    "    print(\"Subject: \" + subject)\n",
    "    print(\"Contents\")\n",
    "    print(\"*\"*10)\n",
    "    print(contents)\n",
    "    print(\"*\"*10)\n",
    "    print(\"Completed\")\n",
    "    print(\"-\"*20)\n",
    "\n",
    "\n",
    "# from_email 생성\n",
    "my_email = \"yenavibes@gmail.com\"\n",
    "\n",
    "# to_email 생성\n",
    "users = []\n",
    "users.append({\"name\": \"yena\", \"email\": \"yenavibes@gmail.com\"})\n",
    "users.append({\"name\": \"yena\", \"email\": \"yenavibes@gmail.com\"})\n",
    "users.append({\"name\": \"yena\", \"email\": \"yenavibes@gmail.com\"})\n",
    "\n",
    "# contents 생성\n",
    "contents = \"테스트입니다\"\n",
    "# 반복문\n",
    "for user in users:\n",
    "    title = \"{}님에게 발송되는 테스트 메일입니다.\".format(user[\"name\"])\n",
    "    send_mail(my_email, user[\"email\"], title, contents)"
   ]
  },
  {
   "cell_type": "code",
   "execution_count": 7,
   "metadata": {},
   "outputs": [],
   "source": [
    "# 클래스 사용 \n",
    "# 형식에 맞는 이메일인지 확인 "
   ]
  },
  {
   "cell_type": "code",
   "execution_count": 60,
   "metadata": {},
   "outputs": [],
   "source": [
    "class Email():\n",
    "    from_email = \"\"\n",
    "    to_email = \"\"\n",
    "    subject = \"\"\n",
    "    contents = \"\"\n",
    "# to_email 형식에 @가 있는 메일 \n",
    "# from_email 양식은 검토하지 않음 \n",
    "    def valid_email(self):\n",
    "        if \"@\" in self.to_email:\n",
    "            return True \n",
    "        else: \n",
    "            return False \n",
    "# send_mail() \n",
    "# 발송되면 print 실행 \n",
    "    def send_mail(self):\n",
    "        print (\"Send to : {}\".format(self.to_email))\n",
    "\n",
    "# # 초기값 \n",
    "# email = Email()\n",
    "# email.from_email = \"yenavibes@gmail.com\"\n",
    "# email.to_email = \"ynjo8531@gmail.com\"\n",
    "# email.subject = \"dear.\"\n",
    "# email.contents = \"테스트 발송 메일\""
   ]
  },
  {
   "cell_type": "code",
   "execution_count": 62,
   "metadata": {
    "scrolled": true
   },
   "outputs": [
    {
     "name": "stdout",
     "output_type": "stream",
     "text": [
      "Send to : \n"
     ]
    }
   ],
   "source": [
    "email = Email()\n",
    "email.send_mail()"
   ]
  },
  {
   "cell_type": "code",
   "execution_count": null,
   "metadata": {},
   "outputs": [],
   "source": []
  },
  {
   "cell_type": "code",
   "execution_count": null,
   "metadata": {},
   "outputs": [],
   "source": []
  },
  {
   "cell_type": "code",
   "execution_count": null,
   "metadata": {},
   "outputs": [],
   "source": []
  },
  {
   "cell_type": "code",
   "execution_count": null,
   "metadata": {},
   "outputs": [],
   "source": []
  },
  {
   "cell_type": "code",
   "execution_count": null,
   "metadata": {},
   "outputs": [],
   "source": []
  },
  {
   "cell_type": "code",
   "execution_count": null,
   "metadata": {},
   "outputs": [],
   "source": []
  },
  {
   "cell_type": "code",
   "execution_count": null,
   "metadata": {},
   "outputs": [],
   "source": []
  },
  {
   "cell_type": "code",
   "execution_count": null,
   "metadata": {},
   "outputs": [],
   "source": []
  },
  {
   "cell_type": "code",
   "execution_count": null,
   "metadata": {},
   "outputs": [],
   "source": []
  },
  {
   "cell_type": "code",
   "execution_count": null,
   "metadata": {},
   "outputs": [],
   "source": []
  },
  {
   "cell_type": "code",
   "execution_count": null,
   "metadata": {},
   "outputs": [],
   "source": []
  },
  {
   "cell_type": "code",
   "execution_count": null,
   "metadata": {},
   "outputs": [],
   "source": []
  },
  {
   "cell_type": "code",
   "execution_count": null,
   "metadata": {},
   "outputs": [],
   "source": []
  },
  {
   "cell_type": "code",
   "execution_count": null,
   "metadata": {},
   "outputs": [],
   "source": []
  },
  {
   "cell_type": "code",
   "execution_count": null,
   "metadata": {},
   "outputs": [],
   "source": []
  },
  {
   "cell_type": "code",
   "execution_count": null,
   "metadata": {},
   "outputs": [],
   "source": []
  },
  {
   "cell_type": "code",
   "execution_count": null,
   "metadata": {},
   "outputs": [],
   "source": []
  },
  {
   "cell_type": "code",
   "execution_count": null,
   "metadata": {},
   "outputs": [],
   "source": []
  },
  {
   "cell_type": "code",
   "execution_count": null,
   "metadata": {},
   "outputs": [],
   "source": []
  },
  {
   "cell_type": "code",
   "execution_count": null,
   "metadata": {},
   "outputs": [],
   "source": []
  },
  {
   "cell_type": "code",
   "execution_count": null,
   "metadata": {},
   "outputs": [],
   "source": []
  },
  {
   "cell_type": "code",
   "execution_count": null,
   "metadata": {},
   "outputs": [],
   "source": []
  },
  {
   "cell_type": "code",
   "execution_count": null,
   "metadata": {},
   "outputs": [],
   "source": []
  },
  {
   "cell_type": "code",
   "execution_count": null,
   "metadata": {},
   "outputs": [],
   "source": []
  },
  {
   "cell_type": "code",
   "execution_count": null,
   "metadata": {},
   "outputs": [],
   "source": []
  },
  {
   "cell_type": "code",
   "execution_count": null,
   "metadata": {},
   "outputs": [],
   "source": []
  },
  {
   "cell_type": "code",
   "execution_count": null,
   "metadata": {},
   "outputs": [],
   "source": []
  },
  {
   "cell_type": "code",
   "execution_count": null,
   "metadata": {},
   "outputs": [],
   "source": []
  },
  {
   "cell_type": "code",
   "execution_count": null,
   "metadata": {},
   "outputs": [],
   "source": []
  }
 ],
 "metadata": {
  "kernelspec": {
   "display_name": "Python 3",
   "language": "python",
   "name": "python3"
  },
  "language_info": {
   "codemirror_mode": {
    "name": "ipython",
    "version": 3
   },
   "file_extension": ".py",
   "mimetype": "text/x-python",
   "name": "python",
   "nbconvert_exporter": "python",
   "pygments_lexer": "ipython3",
   "version": "3.8.3"
  }
 },
 "nbformat": 4,
 "nbformat_minor": 4
}
